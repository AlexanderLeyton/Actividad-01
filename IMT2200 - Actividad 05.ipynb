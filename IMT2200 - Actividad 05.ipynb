{
 "cells": [
  {
   "cell_type": "markdown",
   "metadata": {},
   "source": [
    "# <img style=\"float: left; padding-right: 20px; width: 200px\" src=\"attachment:logo.jpg\">  IMT 2200 - Introducción a Ciencia de Datos\n",
    "**Pontificia Universidad Católica de Chile**<br>\n",
    "**Instituto de Ingeniería Matemática y Computacional**<br>\n",
    "**Semestre 2023-1**<br>\n",
    "**Profesor:** Rodrigo A. Carrasco <br>\n",
    "---"
   ]
  },
  {
   "cell_type": "markdown",
   "metadata": {},
   "source": [
    "# <h1><center>Actividad 05: Limpieza de datos</center></h1>\n",
    "\n",
    "Esta actividad busca aplicar los conocimientos en transformación de datos para contestar algunas preguntas."
   ]
  },
  {
   "cell_type": "markdown",
   "metadata": {},
   "source": [
    "## Instrucciones\n",
    "\n",
    "Esto Notebook contiene las instrucciones a realizar para la actividad. \n",
    "\n",
    "<b>Al finalizarla, deben subir el Notebook y los archivos generados a su repositorio personal, en una carpeta nueva llamada \"Actividad 05\". Asegúrese que ambas ayudantes tienen acceso a su repositorio para que puedan corregir. La actividad debe ser subida antes del final de la clase. Actualizaciones de su repositorio posteriores a esa fecha serán evaluadas con nota 1.0.</b>"
   ]
  },
  {
   "cell_type": "markdown",
   "metadata": {},
   "source": [
    "## Actividad\n",
    "\n",
    "Para esta actividad usaremos una base de datos obtenida de AirBnb que hemos bajado para usted. La base está dispobible en la carpeta `data` y el archivo se llama `listings.csv`."
   ]
  },
  {
   "cell_type": "markdown",
   "metadata": {},
   "source": [
    "## Rúbrica\n",
    "\n",
    "- Si han logrado los puntos 1 y 2: 3.0\n",
    "- Si han logrado hasta el punto 3: 4.0\n",
    "- Si han logrado hasta el punto 5: 5.0\n",
    "- Si han logrado todo: 7.0"
   ]
  },
  {
   "cell_type": "code",
   "execution_count": 116,
   "metadata": {},
   "outputs": [],
   "source": [
    "# librerías necesarias para el ejercicio\n",
    "import pandas as pd"
   ]
  },
  {
   "cell_type": "markdown",
   "metadata": {},
   "source": [
    "## 1. Limpieza - datos relevantes\n",
    "\n",
    "A continuación use las celdas para leer y transformar en un único DataFrame los datos que están en el archivo `listings.csv`."
   ]
  },
  {
   "cell_type": "markdown",
   "metadata": {},
   "source": [
    "Lea el archivo y liste sus columnas."
   ]
  },
  {
   "cell_type": "code",
   "execution_count": 131,
   "metadata": {},
   "outputs": [
    {
     "name": "stdout",
     "output_type": "stream",
     "text": [
      "id\n",
      "listing_url\n",
      "scrape_id\n",
      "last_scraped\n",
      "name\n",
      "summary\n",
      "space\n",
      "description\n",
      "experiences_offered\n",
      "neighborhood_overview\n",
      "notes\n",
      "transit\n",
      "access\n",
      "interaction\n",
      "house_rules\n",
      "thumbnail_url\n",
      "medium_url\n",
      "picture_url\n",
      "xl_picture_url\n",
      "host_id\n",
      "host_url\n",
      "host_name\n",
      "host_since\n",
      "host_location\n",
      "host_about\n",
      "host_response_time\n",
      "host_response_rate\n",
      "host_acceptance_rate\n",
      "host_is_superhost\n",
      "host_thumbnail_url\n",
      "host_picture_url\n",
      "host_neighbourhood\n",
      "host_listings_count\n",
      "host_total_listings_count\n",
      "host_verifications\n",
      "host_has_profile_pic\n",
      "host_identity_verified\n",
      "street\n",
      "neighbourhood\n",
      "neighbourhood_cleansed\n",
      "neighbourhood_group_cleansed\n",
      "city\n",
      "state\n",
      "zipcode\n",
      "market\n",
      "smart_location\n",
      "country_code\n",
      "country\n",
      "latitude\n",
      "longitude\n",
      "is_location_exact\n",
      "property_type\n",
      "room_type\n",
      "accommodates\n",
      "bathrooms\n",
      "bedrooms\n",
      "beds\n",
      "bed_type\n",
      "amenities\n",
      "square_feet\n",
      "price\n",
      "weekly_price\n",
      "monthly_price\n",
      "security_deposit\n",
      "cleaning_fee\n",
      "guests_included\n",
      "extra_people\n",
      "minimum_nights\n",
      "maximum_nights\n",
      "minimum_minimum_nights\n",
      "maximum_minimum_nights\n",
      "minimum_maximum_nights\n",
      "maximum_maximum_nights\n",
      "minimum_nights_avg_ntm\n",
      "maximum_nights_avg_ntm\n",
      "calendar_updated\n",
      "has_availability\n",
      "availability_30\n",
      "availability_60\n",
      "availability_90\n",
      "availability_365\n",
      "calendar_last_scraped\n",
      "number_of_reviews\n",
      "number_of_reviews_ltm\n",
      "first_review\n",
      "last_review\n",
      "review_scores_rating\n",
      "review_scores_accuracy\n",
      "review_scores_cleanliness\n",
      "review_scores_checkin\n",
      "review_scores_communication\n",
      "review_scores_location\n",
      "review_scores_value\n",
      "requires_license\n",
      "license\n",
      "jurisdiction_names\n",
      "instant_bookable\n",
      "is_business_travel_ready\n",
      "cancellation_policy\n",
      "require_guest_profile_picture\n",
      "require_guest_phone_verification\n",
      "calculated_host_listings_count\n",
      "calculated_host_listings_count_entire_homes\n",
      "calculated_host_listings_count_private_rooms\n",
      "calculated_host_listings_count_shared_rooms\n",
      "reviews_per_month\n"
     ]
    }
   ],
   "source": [
    "datframe=pd.read_csv(\"data/listings.csv\")\n",
    "columnas = datframe.columns\n",
    "for columna in columnas:\n",
    "    print(columna)"
   ]
  },
  {
   "cell_type": "markdown",
   "metadata": {},
   "source": [
    "Para este trabajo, estaremos interesados sólo en las siguientes columnas:\n",
    "\n",
    "['id',\t'last_scraped',\t'name',\t'summary',\t'description', 'city', 'state', 'country_code',\t'latitude',\t'longitude',\t'room_type',\t'accommodates',\t'bathrooms',\t'bedrooms',\t'price',\t'cleaning_fee', 'review_scores_rating',\t'cancellation_policy']\n",
    "\n",
    "Limpie los datos crudos para crear un DataFrame que sólo contenga estas columnas de información."
   ]
  },
  {
   "cell_type": "code",
   "execution_count": 118,
   "metadata": {},
   "outputs": [
    {
     "data": {
      "text/html": [
       "<div>\n",
       "<style scoped>\n",
       "    .dataframe tbody tr th:only-of-type {\n",
       "        vertical-align: middle;\n",
       "    }\n",
       "\n",
       "    .dataframe tbody tr th {\n",
       "        vertical-align: top;\n",
       "    }\n",
       "\n",
       "    .dataframe thead th {\n",
       "        text-align: right;\n",
       "    }\n",
       "</style>\n",
       "<table border=\"1\" class=\"dataframe\">\n",
       "  <thead>\n",
       "    <tr style=\"text-align: right;\">\n",
       "      <th></th>\n",
       "      <th>id</th>\n",
       "      <th>last_scraped</th>\n",
       "      <th>name</th>\n",
       "      <th>summary</th>\n",
       "      <th>description</th>\n",
       "      <th>city</th>\n",
       "      <th>state</th>\n",
       "      <th>country_code</th>\n",
       "      <th>latitude</th>\n",
       "      <th>longitude</th>\n",
       "      <th>room_type</th>\n",
       "      <th>accommodates</th>\n",
       "      <th>bathrooms</th>\n",
       "      <th>bedrooms</th>\n",
       "      <th>price</th>\n",
       "      <th>cleaning_fee</th>\n",
       "      <th>review_scores_rating</th>\n",
       "      <th>cancellation_policy</th>\n",
       "    </tr>\n",
       "  </thead>\n",
       "  <tbody>\n",
       "    <tr>\n",
       "      <th>0</th>\n",
       "      <td>14576</td>\n",
       "      <td>2020-06-22</td>\n",
       "      <td>Dp Valen Castillo 1600</td>\n",
       "      <td>NaN</td>\n",
       "      <td>Nice Flat in 11th floor in front of Mountains ...</td>\n",
       "      <td>Santiago</td>\n",
       "      <td>Chile</td>\n",
       "      <td>CL</td>\n",
       "      <td>-33.46413</td>\n",
       "      <td>-70.64869</td>\n",
       "      <td>Entire home/apt</td>\n",
       "      <td>3</td>\n",
       "      <td>NaN</td>\n",
       "      <td>NaN</td>\n",
       "      <td>$81,730.00</td>\n",
       "      <td>NaN</td>\n",
       "      <td>NaN</td>\n",
       "      <td>moderate</td>\n",
       "    </tr>\n",
       "    <tr>\n",
       "      <th>1</th>\n",
       "      <td>30950</td>\n",
       "      <td>2020-06-22</td>\n",
       "      <td>Apartment Providencia, Santiago</td>\n",
       "      <td>Located in the heart of Providencia, near by r...</td>\n",
       "      <td>Located in the heart of Providencia, near by r...</td>\n",
       "      <td>Santiago</td>\n",
       "      <td>Región Metropolitana</td>\n",
       "      <td>CL</td>\n",
       "      <td>-33.43174</td>\n",
       "      <td>-70.61845</td>\n",
       "      <td>Entire home/apt</td>\n",
       "      <td>2</td>\n",
       "      <td>1.0</td>\n",
       "      <td>1.0</td>\n",
       "      <td>$19,615.00</td>\n",
       "      <td>$60,000.00</td>\n",
       "      <td>90.0</td>\n",
       "      <td>flexible</td>\n",
       "    </tr>\n",
       "    <tr>\n",
       "      <th>2</th>\n",
       "      <td>47936</td>\n",
       "      <td>2020-06-22</td>\n",
       "      <td>My Flat in English</td>\n",
       "      <td>NaN</td>\n",
       "      <td>Nice and comfortable!  (Website hidden by Airbnb)</td>\n",
       "      <td>Santiago</td>\n",
       "      <td>Región Metropolitana</td>\n",
       "      <td>CL</td>\n",
       "      <td>-33.44791</td>\n",
       "      <td>-70.63547</td>\n",
       "      <td>Private room</td>\n",
       "      <td>1</td>\n",
       "      <td>NaN</td>\n",
       "      <td>1.0</td>\n",
       "      <td>$44,952.00</td>\n",
       "      <td>NaN</td>\n",
       "      <td>NaN</td>\n",
       "      <td>flexible</td>\n",
       "    </tr>\n",
       "    <tr>\n",
       "      <th>3</th>\n",
       "      <td>49392</td>\n",
       "      <td>2020-06-22</td>\n",
       "      <td>Share my Flat in Providencia</td>\n",
       "      <td>NaN</td>\n",
       "      <td>Departamento en el barrio Providencia. Complet...</td>\n",
       "      <td>Santiago</td>\n",
       "      <td>Región Metropolitana</td>\n",
       "      <td>CL</td>\n",
       "      <td>-33.43266</td>\n",
       "      <td>-70.60072</td>\n",
       "      <td>Private room</td>\n",
       "      <td>1</td>\n",
       "      <td>NaN</td>\n",
       "      <td>1.0</td>\n",
       "      <td>$44,952.00</td>\n",
       "      <td>$16,346.00</td>\n",
       "      <td>NaN</td>\n",
       "      <td>moderate</td>\n",
       "    </tr>\n",
       "    <tr>\n",
       "      <th>4</th>\n",
       "      <td>50466</td>\n",
       "      <td>2020-06-21</td>\n",
       "      <td>Great apartment at a great location</td>\n",
       "      <td>NaN</td>\n",
       "      <td>Fully furnished LCD TV Wi-fi internet access A...</td>\n",
       "      <td>Santiago</td>\n",
       "      <td>Región Metropolitana</td>\n",
       "      <td>CL</td>\n",
       "      <td>-33.43630</td>\n",
       "      <td>-70.65390</td>\n",
       "      <td>Entire home/apt</td>\n",
       "      <td>2</td>\n",
       "      <td>NaN</td>\n",
       "      <td>1.0</td>\n",
       "      <td>$69,471.00</td>\n",
       "      <td>NaN</td>\n",
       "      <td>NaN</td>\n",
       "      <td>flexible</td>\n",
       "    </tr>\n",
       "  </tbody>\n",
       "</table>\n",
       "</div>"
      ],
      "text/plain": [
       "      id last_scraped                                 name  \\\n",
       "0  14576   2020-06-22               Dp Valen Castillo 1600   \n",
       "1  30950   2020-06-22      Apartment Providencia, Santiago   \n",
       "2  47936   2020-06-22                   My Flat in English   \n",
       "3  49392   2020-06-22         Share my Flat in Providencia   \n",
       "4  50466   2020-06-21  Great apartment at a great location   \n",
       "\n",
       "                                             summary  \\\n",
       "0                                                NaN   \n",
       "1  Located in the heart of Providencia, near by r...   \n",
       "2                                                NaN   \n",
       "3                                                NaN   \n",
       "4                                                NaN   \n",
       "\n",
       "                                         description      city  \\\n",
       "0  Nice Flat in 11th floor in front of Mountains ...  Santiago   \n",
       "1  Located in the heart of Providencia, near by r...  Santiago   \n",
       "2  Nice and comfortable!  (Website hidden by Airbnb)  Santiago   \n",
       "3  Departamento en el barrio Providencia. Complet...  Santiago   \n",
       "4  Fully furnished LCD TV Wi-fi internet access A...  Santiago   \n",
       "\n",
       "                  state country_code  latitude  longitude        room_type  \\\n",
       "0                 Chile           CL -33.46413  -70.64869  Entire home/apt   \n",
       "1  Región Metropolitana           CL -33.43174  -70.61845  Entire home/apt   \n",
       "2  Región Metropolitana           CL -33.44791  -70.63547     Private room   \n",
       "3  Región Metropolitana           CL -33.43266  -70.60072     Private room   \n",
       "4  Región Metropolitana           CL -33.43630  -70.65390  Entire home/apt   \n",
       "\n",
       "   accommodates  bathrooms  bedrooms       price cleaning_fee  \\\n",
       "0             3        NaN       NaN  $81,730.00          NaN   \n",
       "1             2        1.0       1.0  $19,615.00   $60,000.00   \n",
       "2             1        NaN       1.0  $44,952.00          NaN   \n",
       "3             1        NaN       1.0  $44,952.00   $16,346.00   \n",
       "4             2        NaN       1.0  $69,471.00          NaN   \n",
       "\n",
       "   review_scores_rating cancellation_policy  \n",
       "0                   NaN            moderate  \n",
       "1                  90.0            flexible  \n",
       "2                   NaN            flexible  \n",
       "3                   NaN            moderate  \n",
       "4                   NaN            flexible  "
      ]
     },
     "execution_count": 118,
     "metadata": {},
     "output_type": "execute_result"
    }
   ],
   "source": [
    "dataFrame_limpio =datframe[ ['id', 'last_scraped', 'name', 'summary', 'description', 'city', 'state', 'country_code',\n",
    "                       'latitude', 'longitude', 'room_type', 'accommodates', 'bathrooms', 'bedrooms', 'price',\n",
    "                       'cleaning_fee', 'review_scores_rating', 'cancellation_policy']]\n",
    "dataFrame_limpio.head()"
   ]
  },
  {
   "cell_type": "markdown",
   "metadata": {},
   "source": [
    "## 2. Limpieza - datos duplicados\n",
    "\n",
    "Ahora asegure que en las filas de su DataFrame no existan datos duplicados. En caso de existir datos duplicados, dejar la primera aparición de los datos en el CSV como dato final. ¿Cuántos datos duplicados encontró?"
   ]
  },
  {
   "cell_type": "code",
   "execution_count": 141,
   "metadata": {},
   "outputs": [
    {
     "name": "stdout",
     "output_type": "stream",
     "text": [
      "Se encontraron 14 datos duplicados.\n"
     ]
    }
   ],
   "source": [
    "\n",
    "dataFrame_limpio_sin_duplicados = dataFrame_limpio.drop_duplicates()\n",
    "print(f\"Se encontraron { len(dataFrame_limpio) - len(dataFrame_limpio_sin_duplicados)} datos duplicados.\")\n"
   ]
  },
  {
   "cell_type": "markdown",
   "metadata": {},
   "source": [
    "Respuesta: "
   ]
  },
  {
   "cell_type": "markdown",
   "metadata": {},
   "source": [
    "## 3. Limpieza de texto y transformación\n",
    "\n",
    "En la columna `price` está como texto el precio de cada una de las publicaciones. Corrija esos datos para contestar: ¿Cuál es el precio promedio de arriendos de AirBnb en esta base de datos?"
   ]
  },
  {
   "cell_type": "code",
   "execution_count": 129,
   "metadata": {},
   "outputs": [
    {
     "name": "stdout",
     "output_type": "stream",
     "text": [
      "El precio promedio de arriendos de Airbnb en esta base de datos es: $91024.79 por noche.\n"
     ]
    }
   ],
   "source": [
    "dataFrame_limpio['price'] = dataFrame_limpio['price'].astype(str)\n",
    "dataFrame_limpio['price'] = dataFrame_limpio['price'].str.replace('$', '')\n",
    "dataFrame_limpio['price'] = dataFrame_limpio['price'].str.replace(',', '')\n",
    "dataFrame_limpio['price'] = dataFrame_limpio['price'].astype(float)\n",
    "print(f\"El precio promedio de arriendos de Airbnb en esta base de datos es: ${dataFrame_limpio['price'].mean():.2f} por noche.\")\n"
   ]
  },
  {
   "cell_type": "markdown",
   "metadata": {},
   "source": [
    "## 4. Variables categóricas\n",
    "\n",
    "La variable `cancellation_policy` corresponde a una variable categórica. Identifique qué categorías tiene esta columna."
   ]
  },
  {
   "cell_type": "code",
   "execution_count": 136,
   "metadata": {},
   "outputs": [
    {
     "name": "stdout",
     "output_type": "stream",
     "text": [
      "las categorias son: \n",
      "- moderate\n",
      "- flexible\n",
      "- nan\n"
     ]
    }
   ],
   "source": [
    "categorias_cancellation_policy = dataFrame_limpio['cancellation_policy'].unique()\n",
    "print(\"las categorias son: \")\n",
    "for categoria in categorias_cancellation_policy:\n",
    "    print(\"-\",categoria)\n"
   ]
  },
  {
   "cell_type": "markdown",
   "metadata": {},
   "source": [
    "## 5. Cambios de categoría\n",
    "\n",
    "Para nuetro análisis, sólo trabajaremos con las siguientes categorías: `moderate`,`flexible`,`strict`. Transforme la columna `cancellation_policy` para que se adapte a sólo estos tres posibles valores. Si cree que no es obvia la transformación, explique cómo decisió mapear cada categoría original a las categorías finales. Verifique que el DataFrame final sólo tiene esas categorías y conteste: ¿Cuántas publicaciones tenían una categoría `flexible`?"
   ]
  },
  {
   "cell_type": "code",
   "execution_count": 143,
   "metadata": {
    "scrolled": true
   },
   "outputs": [
    {
     "name": "stdout",
     "output_type": "stream",
     "text": [
      "Categorías finales en la columna 'cancellation_policy':\n",
      "- moderate\n",
      "- flexible\n",
      "- nan\n",
      "\n",
      "Número de publicaciones con categoría 'flexible': 10249\n"
     ]
    }
   ],
   "source": [
    "mapeo_categorias = {\n",
    "    'moderate': 'moderate',\n",
    "    'flexible': 'flexible',\n",
    "    'strict': 'strict',\n",
    "}\n",
    "dataFrame_limpio.loc[:, 'cancellation_policy'] = dataFrame_limpio['cancellation_policy'].map(mapeo_categorias)\n",
    "categorias_finales = dataFrame_limpio['cancellation_policy'].unique()\n",
    "print(\"Categorías finales en la columna 'cancellation_policy':\")\n",
    "for categoria in categorias_finales:\n",
    "    print(\"-\",categoria)\n",
    "\n",
    "cantidad_flexible = (dataFrame_limpio['cancellation_policy'] == 'flexible').sum()\n",
    "print(f\"\\nNúmero de publicaciones con categoría 'flexible': {cantidad_flexible}\")\n"
   ]
  },
  {
   "cell_type": "markdown",
   "metadata": {},
   "source": [
    "## 6. Valores fuera de rango\n",
    "\n",
    "Muchas veces las variables pueden tener valores furea de rango. Revise los datos de la columna `bedrooms`. ¿Encuentra que los valores están todos en un rango razonable? Si no lo están, revise el dato y verifique si hace sentido o no."
   ]
  },
  {
   "cell_type": "code",
   "execution_count": 154,
   "metadata": {},
   "outputs": [
    {
     "data": {
      "text/plain": [
       "bedrooms\n",
       "1.0     10968\n",
       "2.0      3196\n",
       "3.0       805\n",
       "0.0       599\n",
       "4.0       218\n",
       "5.0        76\n",
       "6.0        33\n",
       "8.0        17\n",
       "10.0       13\n",
       "7.0        11\n",
       "9.0         4\n",
       "11.0        2\n",
       "12.0        2\n",
       "43.0        1\n",
       "14.0        1\n",
       "19.0        1\n",
       "28.0        1\n",
       "30.0        1\n",
       "40.0        1\n",
       "50.0        1\n",
       "Name: count, dtype: int64"
      ]
     },
     "execution_count": 154,
     "metadata": {},
     "output_type": "execute_result"
    }
   ],
   "source": [
    "dataFrame_limpio['bedrooms'].value_counts()\n"
   ]
  },
  {
   "cell_type": "markdown",
   "metadata": {},
   "source": [
    "Respuesta: NO, DICE QUE EXISTE UNA PERSONA QUE ARRENDO 50 CAMAS"
   ]
  }
 ],
 "metadata": {
  "kernelspec": {
   "display_name": "Python 3 (ipykernel)",
   "language": "python",
   "name": "python3"
  },
  "language_info": {
   "codemirror_mode": {
    "name": "ipython",
    "version": 3
   },
   "file_extension": ".py",
   "mimetype": "text/x-python",
   "name": "python",
   "nbconvert_exporter": "python",
   "pygments_lexer": "ipython3",
   "version": "3.10.12"
  }
 },
 "nbformat": 4,
 "nbformat_minor": 2
}
